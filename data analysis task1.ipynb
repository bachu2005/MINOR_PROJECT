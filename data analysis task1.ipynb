{
  "nbformat": 4,
  "nbformat_minor": 0,
  "metadata": {
    "colab": {
      "provenance": [],
      "authorship_tag": "ABX9TyN/oWujz0s8PzX9HMjvoiSo",
      "include_colab_link": true
    },
    "kernelspec": {
      "name": "python3",
      "display_name": "Python 3"
    },
    "language_info": {
      "name": "python"
    }
  },
  "cells": [
    {
      "cell_type": "markdown",
      "metadata": {
        "id": "view-in-github",
        "colab_type": "text"
      },
      "source": [
        "<a href=\"https://colab.research.google.com/github/bachu2005/MINOR_PROJECT/blob/main/data%20analysis%20task1.ipynb\" target=\"_parent\"><img src=\"https://colab.research.google.com/assets/colab-badge.svg\" alt=\"Open In Colab\"/></a>"
      ]
    },
    {
      "cell_type": "code",
      "execution_count": 8,
      "metadata": {
        "colab": {
          "base_uri": "https://localhost:8080/"
        },
        "id": "9eIXX3dHpbq2",
        "outputId": "96db2548-8d07-4085-abb5-77c9cd81c35b"
      },
      "outputs": [
        {
          "output_type": "stream",
          "name": "stdout",
          "text": [
            "Requirement already satisfied: pyspark in /usr/local/lib/python3.11/dist-packages (3.5.4)\n",
            "Requirement already satisfied: py4j==0.10.9.7 in /usr/local/lib/python3.11/dist-packages (from pyspark) (0.10.9.7)\n",
            "+---------------+----------------------+\n",
            "|Calories (kcal)|avg(Water_Intake (ml))|\n",
            "+---------------+----------------------+\n",
            "|            496|     632.1052631578947|\n",
            "|            148|               584.375|\n",
            "|            463|     482.6818181818182|\n",
            "|            471|     614.4166666666666|\n",
            "|            392|                512.05|\n",
            "|            243|                 529.3|\n",
            "|            540|      580.578947368421|\n",
            "|            516|                592.68|\n",
            "|            580|    458.94444444444446|\n",
            "|            251|                 487.2|\n",
            "|            137|     513.5769230769231|\n",
            "|            451|                 637.0|\n",
            "|             85|                461.75|\n",
            "|            458|     535.7647058823529|\n",
            "|             65|                 440.0|\n",
            "|            481|     527.1578947368421|\n",
            "|            588|    424.70588235294116|\n",
            "|            255|     518.8076923076923|\n",
            "|             53|                544.35|\n",
            "|            296|     584.7826086956521|\n",
            "+---------------+----------------------+\n",
            "only showing top 20 rows\n",
            "\n",
            "+---------------+----------------------+\n",
            "|Calories (kcal)|avg(Water_Intake (ml))|\n",
            "+---------------+----------------------+\n",
            "|            496|     632.1052631578947|\n",
            "|            148|               584.375|\n",
            "|            463|     482.6818181818182|\n",
            "|            471|     614.4166666666666|\n",
            "|            392|                512.05|\n",
            "|            243|                 529.3|\n",
            "|            540|      580.578947368421|\n",
            "|            516|                592.68|\n",
            "|            580|    458.94444444444446|\n",
            "|            251|                 487.2|\n",
            "|            137|     513.5769230769231|\n",
            "|            451|                 637.0|\n",
            "|             85|                461.75|\n",
            "|            458|     535.7647058823529|\n",
            "|             65|                 440.0|\n",
            "|            481|     527.1578947368421|\n",
            "|            588|    424.70588235294116|\n",
            "|            255|     518.8076923076923|\n",
            "|             53|                544.35|\n",
            "|            296|     584.7826086956521|\n",
            "+---------------+----------------------+\n",
            "only showing top 20 rows\n",
            "\n"
          ]
        }
      ],
      "source": [
        "!pip install pyspark\n",
        "from pyspark.sql import SparkSession\n",
        "\n",
        "# Initialize Spark session\n",
        "spark = SparkSession.builder \\\n",
        "    .appName(\"Large Dataset Analysis\") \\\n",
        "    .getOrCreate()\n",
        "\n",
        "# Load a large dataset (assume it's in CSV format)\n",
        "df = spark.read.csv(\"/task1.csv\", header=True, inferSchema=True)\n",
        "\n",
        "# Perform a transformation (e.g., group by a column and get averages)\n",
        "df_grouped = df.groupBy(\"Calories (kcal)\").avg(\"Water_Intake (ml)\")\n",
        "\n",
        "# Show result\n",
        "df_grouped.show()\n",
        "# Initialize Spark session\n",
        "spark = SparkSession.builder \\\n",
        "    .appName(\"Large Dataset Analysis\") \\\n",
        "    .getOrCreate()\n",
        "\n",
        "# Load a large dataset (assume it's in CSV format)\n",
        "df = spark.read.csv(\"/task1.csv\", header=True, inferSchema=True)\n",
        "\n",
        "# Perform a transformation (e.g., group by a column and get averages)\n",
        "df_grouped = df.groupBy(\"Calories (kcal)\").avg(\"Water_Intake (ml)\")\n",
        "\n",
        "# Show result\n",
        "df_grouped.show()\n"
      ]
    }
  ]
}