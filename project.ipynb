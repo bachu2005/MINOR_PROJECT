{
  "nbformat": 4,
  "nbformat_minor": 0,
  "metadata": {
    "colab": {
      "provenance": [],
      "authorship_tag": "ABX9TyORZu/jUiXL2G3JUzLuJped",
      "include_colab_link": true
    },
    "kernelspec": {
      "name": "python3",
      "display_name": "Python 3"
    },
    "language_info": {
      "name": "python"
    }
  },
  "cells": [
    {
      "cell_type": "markdown",
      "metadata": {
        "id": "view-in-github",
        "colab_type": "text"
      },
      "source": [
        "<a href=\"https://colab.research.google.com/github/bachu2005/MINOR_PROJECT/blob/main/project.ipynb\" target=\"_parent\"><img src=\"https://colab.research.google.com/assets/colab-badge.svg\" alt=\"Open In Colab\"/></a>"
      ]
    },
    {
      "cell_type": "code",
      "execution_count": 1,
      "metadata": {
        "colab": {
          "base_uri": "https://localhost:8080/"
        },
        "id": "O4qYidORXl_N",
        "outputId": "b8a03009-1899-476b-f90e-a7c3308912c4"
      },
      "outputs": [
        {
          "output_type": "stream",
          "name": "stdout",
          "text": [
            "Welcome to the Number Guessing Game!\n",
            "I'm thinking of a number between 1 and 100.\n",
            "Enter your guess: 56\n",
            "Too low! Try again.\n",
            "Enter your guess: 78\n",
            "Congratulations! You've guessed the number in 2 attempts.\n"
          ]
        }
      ],
      "source": [
        "import random\n",
        "\n",
        "def guess_the_number():\n",
        "    print(\"Welcome to the Number Guessing Game!\")\n",
        "    print(\"I'm thinking of a number between 1 and 100.\")\n",
        "\n",
        "    # Randomly choose a number between 1 and 100\n",
        "    number_to_guess = random.randint(1, 100)\n",
        "\n",
        "    attempts = 0\n",
        "    guessed = False\n",
        "\n",
        "    while not guessed:\n",
        "        try:\n",
        "            user_guess = int(input(\"Enter your guess: \"))\n",
        "            attempts += 1\n",
        "\n",
        "            if user_guess < number_to_guess:\n",
        "                print(\"Too low! Try again.\")\n",
        "            elif user_guess > number_to_guess:\n",
        "                print(\"Too high! Try again.\")\n",
        "            else:\n",
        "                guessed = True\n",
        "                print(f\"Congratulations! You've guessed the number in {attempts} attempts.\")\n",
        "        except ValueError:\n",
        "            print(\"Please enter a valid number.\")\n",
        "\n",
        "# Run the game\n",
        "guess_the_number()\n"
      ]
    }
  ]
}